{
 "cells": [
  {
   "cell_type": "markdown",
   "metadata": {},
   "source": [
    "# Functions"
   ]
  },
  {
   "cell_type": "markdown",
   "metadata": {},
   "source": [
    "En este laboratorio pondremos en práctica algunos de los conceptos que hemos aprendido en los últimos días.\n",
    "\n",
    "`NOTA: En este laboratorio deberías intentar escribir todas las funciones por ti mismo utilizando solo la sintaxis más básica de Python y sin funciones como len, count, sum, max, min, in, etc. Dale una oportunidad. 🧑🏻‍💻👩🏻‍💻`\n",
    "\n",
    "La celda después de cada ejercicio contiene algunas pruebas para verificar si tu función funciona como se espera."
   ]
  },
  {
   "cell_type": "code",
   "execution_count": null,
   "metadata": {},
   "outputs": [],
   "source": [
    "from mod.testing import *\n",
    "import unittest"
   ]
  },
  {
   "cell_type": "markdown",
   "metadata": {},
   "source": [
    "## 1. Escribe una función que devuelva el mayor de dos números"
   ]
  },
  {
   "cell_type": "code",
   "execution_count": null,
   "metadata": {},
   "outputs": [],
   "source": [
    "def greater(a, b):\n",
    "    if a > b:\n",
    "        return a\n",
    "    else:\n",
    "        return b\n",
    "\n",
    "a = int(input(\"Dame un numero: \"))\n",
    "b = int(input(\"Dame un numero: \"))\n",
    "greater(a, b)\n",
    "print(f'El mayor es: {greater(a,b)} ')"
   ]
  },
  {
   "cell_type": "code",
   "execution_count": null,
   "metadata": {},
   "outputs": [],
   "source": [
    "# Para testear tu función\n",
    "\n",
    "# assert es una instrucción que se usa para verificar que algo sea verdadero durante la ejecución del programa. \n",
    "# Si la condición que pones después de assert es falsa, Python lanza un error que detiene el programa y muestra\n",
    "# un mensaje que tú defines.\n",
    "def greater(a, b):\n",
    "\tif a > b:\n",
    "\t\treturn a\n",
    "\telse:\n",
    "\t\treturn b\n",
    "\n",
    "# Definimos una función simple de test\n",
    "def test_greater(func):\n",
    "\tassert func(5, 9) == 9, \"Error: debería devolver 9\"\n",
    "\tassert func(10, 3) == 10, \"Error: debería devolver 10\"\n",
    "\tassert func(-1, -5) == -1, \"Error: debería devolver -1\"\n",
    "\tprint(\"Todos los tests pasaron.\")\n",
    "\n",
    "test_greater(greater)"
   ]
  },
  {
   "cell_type": "markdown",
   "metadata": {},
   "source": [
    "## 2. Ahora escribe una función que devuelva el elemento más"
   ]
  },
  {
   "cell_type": "code",
   "execution_count": null,
   "metadata": {},
   "outputs": [
    {
     "data": {
      "text/plain": [
       "5"
      ]
     },
     "execution_count": 1,
     "metadata": {},
     "output_type": "execute_result"
    }
   ],
   "source": [
    "#he supuesto el más grande de los dos números\n",
    "def max_element(lista):\n",
    "    mayor = lista[0]\n",
    "    for elem in lista:\n",
    "        if elem > mayor:\n",
    "            mayor = elem\n",
    "    return mayor\n",
    "max_element([1, 2, 3, 4, 5])"
   ]
  },
  {
   "cell_type": "code",
   "execution_count": null,
   "metadata": {},
   "outputs": [],
   "source": [
    "# Para testear tu función\n",
    "def max_element(lista):\n",
    "    mayor = lista[0]\n",
    "    for elem in lista:\n",
    "        if elem > mayor:\n",
    "            mayor = elem\n",
    "    return mayor\n",
    "\n",
    "# Tests\n",
    "assert max_element([1, 2, 3, 4, 5]) == 5, \"Error: debería devolver 5\"\n",
    "assert max_element([-10, -5, -3]) == -3, \"Error: debería devolver -3\"\n",
    "assert max_element([100]) == 100, \"Error: debería devolver 100\"\n",
    "assert max_element([5, 5, 5]) == 5, \"Error: debería devolver 5\"\n",
    "\n",
    "print(\"Todos los tests pasaron.\")\n"
   ]
  },
  {
   "cell_type": "markdown",
   "metadata": {},
   "source": [
    "## 3. Escribe una función que sume todos los elementos de una lista"
   ]
  },
  {
   "cell_type": "code",
   "execution_count": null,
   "metadata": {},
   "outputs": [],
   "source": [
    "def sum_all(lst):\n",
    "    suma = 0\n",
    "    for i in lst:\n",
    "        suma += i\n",
    "    return suma\n",
    "\n",
    "\n",
    "lista = []\n",
    "for i in range(6):\n",
    "    num = int(input(f'Dame el numero {i+1}: '))\n",
    "    lista.append(num)\n",
    "print(f'La lista es: {lista}')\n",
    "print(f'La suma de la lista es: {sum_all(lista)}')\n",
    "\n"
   ]
  },
  {
   "cell_type": "code",
   "execution_count": null,
   "metadata": {
    "scrolled": true
   },
   "outputs": [],
   "source": [
    "# Para testear tu función\n",
    "\n",
    "def sum_all(lst):\n",
    "    suma = 0\n",
    "    for i in lst:\n",
    "        suma += i\n",
    "    return suma\n",
    "# Tests\n",
    "assert sum_all([1, 2, 3]) == 6, \"Error: debería devolver 6\"\n",
    "assert sum_all([-1, -2, -3]) == -6, \"Error: debería devolver -6\"\n",
    "assert sum_all([0, 0, 0]) == 0, \"Error: debería devolver 0\"\n",
    "assert sum_all([10, 20, 30]) == 60, \"Error: debería devolver 60\"\n",
    "print(\"Todos los tests pasaron.\")"
   ]
  },
  {
   "cell_type": "markdown",
   "metadata": {},
   "source": [
    "## 4. Escribe otra función que multiplique todos los elementos de una lista"
   ]
  },
  {
   "cell_type": "code",
   "execution_count": 25,
   "metadata": {},
   "outputs": [
    {
     "name": "stdout",
     "output_type": "stream",
     "text": [
      "La lista es: [5, 6, 6, 5, 64, 5]\n",
      "La multiplicación de los números de la lista es: 288000\n"
     ]
    }
   ],
   "source": [
    "def mult_all(lst):\n",
    "    resultado = 1\n",
    "    for i in lst:\n",
    "        resultado *=i # equivale a resultado = resultado * i\n",
    "    return resultado\n",
    "\n",
    "\n",
    "lista = []\n",
    "for i in range(6):\n",
    "    num = int(input(f'Dame el numero {i+1}: '))\n",
    "    lista.append(num)\n",
    "print(f'La lista es: {lista}')\n",
    "print(f'La multiplicación de los números de la lista es: {mult_all(lista)}')\n"
   ]
  },
  {
   "cell_type": "markdown",
   "metadata": {},
   "source": [
    "## 5. Ahora combina esas dos ideas y escribe una función que reciba una lista y ya sea \"+\" o \"*\", y produzca el resultado acorde"
   ]
  },
  {
   "cell_type": "code",
   "execution_count": null,
   "metadata": {},
   "outputs": [],
   "source": [
    "def oper_all(arr, oper = \"*\"):\n",
    "#tu codigo aquí"
   ]
  },
  {
   "cell_type": "code",
   "execution_count": null,
   "metadata": {},
   "outputs": [],
   "source": [
    "# Para testear tu función\n",
    "test_operations(oper_all)"
   ]
  },
  {
   "cell_type": "markdown",
   "metadata": {},
   "source": [
    "## 6. Escribe una función que devuelva el factorial de un número."
   ]
  },
  {
   "cell_type": "code",
   "execution_count": null,
   "metadata": {},
   "outputs": [
    {
     "name": "stdout",
     "output_type": "stream",
     "text": [
      "120\n"
     ]
    }
   ],
   "source": [
    "#necesitamos una funcion recursiva que calcule el factorial de un número\n",
    "def factorial(n):\n",
    "\tresultado = 1\n",
    "\tfor j in range(1, n + 1): #la funcion range no incluy el valor inal, por eso n + 1 (y el factorial empieza en 1)\n",
    "\t\tresultado *= j\n",
    "\treturn resultado\n",
    "a = int(input(\"Dame un numero: \"))\n",
    "print(factorial(a))  "
   ]
  },
  {
   "cell_type": "code",
   "execution_count": 1,
   "metadata": {},
   "outputs": [],
   "source": [
    "# Fórmula factorial\n",
    "# n! = n * (n - 1) *...*1\n",
    "\n",
    "# Este código define una función llamada \"factorial\" que toma una entrada \"n\". La función utiliza un bucle for para iterar a través del rango de números\n",
    "# desde 1 hasta n+1. Para cada número en ese rango, multiplica el valor actual de x por el número en el rango. Al final del bucle,\n",
    "# la función devuelve el valor final de x, que será el factorial del número de entrada \"n\".\n",
    "\n",
    "# El factorial de un entero positivo n es el producto de todos los enteros positivos menores o iguales a n.\n",
    "# Por ejemplo, el factorial de 6 (escrito \"6!\") es 6 * 5 * 4 * 3 * 2 * 1 = 720.\n",
    "\n",
    "# Así que esta función toma una entrada de cualquier entero positivo y devuelve el factorial de ese número."
   ]
  },
  {
   "cell_type": "code",
   "execution_count": 33,
   "metadata": {},
   "outputs": [],
   "source": [
    "# This will test your function \n",
    "def test_factorial(func):\n",
    "    assert func(0) == 1, \"Error: factorial(0) debería ser 1\"\n",
    "    assert func(1) == 1, \"Error: factorial(1) debería ser 1\"\n",
    "    assert func(5) == 120, \"Error: factorial(5) debería ser 120\"\n",
    "    assert func(3) == 6, \"Error: factorial(3) debería ser 6\"\n",
    "    print(\"Todos los tests pasaron.\")"
   ]
  },
  {
   "cell_type": "markdown",
   "metadata": {},
   "source": [
    "## 7. Escribe una función que tome una lista y devuelva una lista de los valores únicos.\n",
    "\n",
    "`NOTE: No podemos usar set. 🤔`"
   ]
  },
  {
   "cell_type": "code",
   "execution_count": 40,
   "metadata": {},
   "outputs": [
    {
     "name": "stdout",
     "output_type": "stream",
     "text": [
      "La lista es: [4, 5, 5, 4, 8, 7]\n",
      "Los elementos unicos de la lista son [4, 5, 8, 7] \n"
     ]
    }
   ],
   "source": [
    "def unique(lst_un):\n",
    "    unicos = []\n",
    "    for elem in lista:\n",
    "        if elem not in unicos:\n",
    "            unicos.append(elem)\n",
    "    return unicos\n",
    "\n",
    "lista = []\n",
    "for i in range(6):\n",
    "    num = int(input(f'Dame el numero {i+1}: '))\n",
    "    lista.append(num)\n",
    "print(f'La lista es: {lista}')\n",
    "\n",
    "print(f'Los elementos unicos de la lista son {unique(lista)} ')\n"
   ]
  },
  {
   "cell_type": "code",
   "execution_count": null,
   "metadata": {},
   "outputs": [],
   "source": [
    "# Para testear tu función \n",
    "test_unique(unique)"
   ]
  },
  {
   "cell_type": "markdown",
   "metadata": {},
   "source": [
    "## 8. Escribe una función que devuelva la moda de una lista, es decir: el elemento que aparece más veces.\n",
    "\n",
    "`NOTE: No se debe usar count... 🧐`"
   ]
  },
  {
   "cell_type": "code",
   "execution_count": 45,
   "metadata": {},
   "outputs": [
    {
     "name": "stdout",
     "output_type": "stream",
     "text": [
      "La lista es: [8, 8, 3, 8, 2, 3]\n",
      "El elemento que aparece mas veces en la lista es 8\n"
     ]
    }
   ],
   "source": [
    "\n",
    "def mode_counter(arr):\n",
    "    frecuencias = {}\n",
    "    for elem in arr:\n",
    "        if elem in frecuencias:\n",
    "            frecuencias[elem] += 1\n",
    "        else:\n",
    "            frecuencias[elem] = 1\n",
    "\n",
    "    max_frecuencia = 0\n",
    "    moda_elemento = None\n",
    "    for elem, freq in frecuencias.items():\n",
    "        if freq > max_frecuencia:\n",
    "            max_frecuencia = freq\n",
    "            moda_elemento = elem\n",
    "\n",
    "    return moda_elemento\n",
    "\n",
    "# Usamos la variable 'lista' ya definida en el notebook\n",
    "print(f'La lista es: {lista}')\n",
    "\n",
    "print(f'El elemento que aparece mas veces en la lista es {mode_counter(lista)}')\n"
   ]
  },
  {
   "cell_type": "code",
   "execution_count": null,
   "metadata": {},
   "outputs": [],
   "source": [
    "# Para testear tu función \n",
    "test_mode(mode_counter)"
   ]
  },
  {
   "cell_type": "markdown",
   "metadata": {},
   "source": [
    "## 9. Escribe una función que calcule la desviación estándar de una lista.\n",
    "`NOTE: no utilices librerías ni ninguna función ya construida. 😉`"
   ]
  },
  {
   "cell_type": "code",
   "execution_count": 51,
   "metadata": {},
   "outputs": [
    {
     "name": "stdout",
     "output_type": "stream",
     "text": [
      "La desviación estándar de los números de la lista es: 5.09\n"
     ]
    }
   ],
   "source": [
    "def st_dev(list_sd):\n",
    "    n = len(list_sd)\n",
    "    if n == 0:\n",
    "        return 0  # o puedes manejar el caso de lista vacía como prefieras\n",
    "\n",
    "    # Calcular la media\n",
    "    suma = 0\n",
    "    for num in list_sd:\n",
    "        suma += num\n",
    "    media = suma / n\n",
    "\n",
    "    # Calcular la suma de los cuadrados de las diferencias con la media\n",
    "    suma_cuadrados = 0\n",
    "    for num in list_sd:\n",
    "        diferencia = num - media\n",
    "        suma_cuadrados += diferencia * diferencia\n",
    "    varianza = suma_cuadrados / n\n",
    "    return varianza ** 0.5\n",
    "\n",
    "print(f'La desviación estándar de los números de la lista es: {round(st_dev(lista), 2)}')"
   ]
  },
  {
   "cell_type": "code",
   "execution_count": null,
   "metadata": {},
   "outputs": [],
   "source": [
    "# Para testear tu función\n",
    "test_stdev(st_dev)"
   ]
  },
  {
   "cell_type": "markdown",
   "metadata": {},
   "source": [
    "## 10. Escribe una función para verificar si una cadena es un pangrama, es decir: si contiene todas las letras del alfabeto al menos una vez. Ten en cuenta que las cadenas pueden contener caracteres que no son letras."
   ]
  },
  {
   "cell_type": "code",
   "execution_count": 59,
   "metadata": {},
   "outputs": [
    {
     "name": "stdout",
     "output_type": "stream",
     "text": [
      "True\n",
      "False\n"
     ]
    }
   ],
   "source": [
    "def pangram(string):\n",
    "    # Convertimos todo a minúsculas para evitar problemas con mayúsculas\n",
    "    string = string.lower() #Convertimos la cadena a minúsculas para no diferenciar mayúsculas y minúsculas\n",
    "    letras_encontradas = set()\n",
    "\n",
    "    for char in string:#Recorremos cada carácter, y si es una letra entre 'a' y 'z', la agregamos a un conjunto (set).\n",
    "        if 'a' <= char <= 'z':  # Solo letras del alfabeto\n",
    "            letras_encontradas.add(char)\n",
    "    return len(letras_encontradas) == 26 # Comprobamos si encontramos las 26 letras\n",
    "\n",
    "texto = \"Benjamín pidió una bebida de kiwi y fresa; Noé, sin vergüenza, la más exquisita champaña\"\n",
    "print(pangram(texto))  # True\n",
    "\n",
    "texto2 = \"Hola mundo\"\n",
    "print(pangram(texto2)) # False"
   ]
  },
  {
   "cell_type": "code",
   "execution_count": null,
   "metadata": {},
   "outputs": [],
   "source": [
    "# Para testear tu función\n",
    "test_pangram(pangram)"
   ]
  },
  {
   "cell_type": "markdown",
   "metadata": {},
   "source": [
    "## 11. Escribe una función que reciba una cadena de palabras separadas por comas y devuelva una cadena de palabras separadas por comas ordenadas alfabéticamente.\n",
    "\n",
    "`NOTA: Puedes usar sorted pero no split y definitivamente no join! 🤪`"
   ]
  },
  {
   "cell_type": "code",
   "execution_count": null,
   "metadata": {},
   "outputs": [
    {
     "name": "stdout",
     "output_type": "stream",
     "text": [
      "banana,manzana,naranja,pera\n"
     ]
    }
   ],
   "source": [
    "def sort_alpha(string):\n",
    "#tu codigo aquídef ordenar_palabras(cadena):\n",
    "    palabras = []\n",
    "    palabra_actual = \"\"\n",
    "    for char in cadena:# Recorremos cada carácter de la cadena\n",
    "        if char == ',':# Si encontramos una coma, significa que terminamos una palabra\n",
    "            palabras.append(palabra_actual)# Guardamos la palabra actual en la lista\n",
    "            palabra_actual = \"\"# Reiniciamos la variable para la próxima palabra\n",
    "        else:\n",
    "            palabra_actual += char # Si no es coma, seguimos formando la palabra\n",
    "\n",
    "    palabras.append(palabra_actual)# Añadir la última palabra (porque no termina con coma)\n",
    "\n",
    "    \n",
    "    palabras_ordenadas = sorted(palabras) # Ordenar las palabras\n",
    "\n",
    "    \n",
    "    # Ahora construimos la cadena resultante (con un bucle y sin usar join):\n",
    "    resultado = \"\"\n",
    "    for i, palabra in enumerate(palabras_ordenadas):\n",
    "        resultado += palabra\n",
    "        if i != len(palabras_ordenadas) - 1:\n",
    "            resultado += \",\"\n",
    "    return resultado\n",
    "\n",
    "cadena = \"manzana,banana,naranja,pera\"\n",
    "print(sort_alpha(cadena))\n",
    "\n",
    "\n"
   ]
  },
  {
   "cell_type": "code",
   "execution_count": null,
   "metadata": {},
   "outputs": [],
   "source": [
    "# Para testear tu función \n",
    "test_alpha(sort_alpha)"
   ]
  },
  {
   "cell_type": "markdown",
   "metadata": {},
   "source": [
    "## 12. Escribe una función para verificar si una contraseña dada es fuerte (al menos 8 caracteres, al menos una minúscula, al menos una mayúscula, al menos un número y al menos un carácter especial). Debería devolver True si es fuerte y False si no lo es."
   ]
  },
  {
   "cell_type": "code",
   "execution_count": null,
   "metadata": {},
   "outputs": [],
   "source": [
    "def check_pass(password):\n",
    "    if len(password) < 8:\n",
    "        return False\n",
    "\n",
    "    tiene_minuscula = False\n",
    "    tiene_mayuscula = False\n",
    "    tiene_numero = False\n",
    "    tiene_especial = False\n",
    "\n",
    "    especiales = \"!@#$%^&*()-_=+[]{};:,.<>?/\\\\|`~\"\n",
    "\n",
    "    for char in password:\n",
    "        if char.islower():\n",
    "            tiene_minuscula = True\n",
    "        elif char.isupper():\n",
    "            tiene_mayuscula = True\n",
    "        elif char.isdigit():\n",
    "            tiene_numero = True\n",
    "        elif char in especiales:\n",
    "            tiene_especial = True\n",
    "\n",
    "    return tiene_minuscula and tiene_mayuscula and tiene_numero and tiene_especial\n",
    "\n",
    "contraseña = input(\"Introduce una contraseña: \")\n",
    "if check_pass(contraseña):\n",
    "    print(\"Contraseña válida\")\n",
    "else:   \n",
    "    print(\"Contraseña inválida. Debe tener al menos 8 caracteres, una letra minúscula, una mayúscula, un número y un carácter especial.\")   "
   ]
  },
  {
   "cell_type": "code",
   "execution_count": null,
   "metadata": {},
   "outputs": [],
   "source": [
    "# Para testear tu función\n",
    "test_pass(check_pass)"
   ]
  }
 ],
 "metadata": {
  "kernelspec": {
   "display_name": "Python 3",
   "language": "python",
   "name": "python3"
  },
  "language_info": {
   "codemirror_mode": {
    "name": "ipython",
    "version": 3
   },
   "file_extension": ".py",
   "mimetype": "text/x-python",
   "name": "python",
   "nbconvert_exporter": "python",
   "pygments_lexer": "ipython3",
   "version": "3.11.9"
  }
 },
 "nbformat": 4,
 "nbformat_minor": 4
}
